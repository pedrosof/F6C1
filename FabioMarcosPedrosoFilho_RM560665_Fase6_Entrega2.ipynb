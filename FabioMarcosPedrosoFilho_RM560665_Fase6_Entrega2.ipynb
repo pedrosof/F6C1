{
 "cells": [
  {
   "cell_type": "markdown",
   "id": "6aa4e02d",
   "metadata": {},
   "source": [
    "# 📦 Entrega 2 – Comparação de Abordagens de Visão Computacional\n",
    "Nesta etapa, comparamos três abordagens para reconhecimento de objetos utilizando o mesmo dataset:\n",
    "\n",
    "- YOLOv5 customizado (adaptado na Entrega 1)\n",
    "- YOLO tradicional (baseado no Capítulo 3 de Redes Neurais)\n",
    "- CNN simples treinada do zero para classificação de imagens\n",
    "\n",
    "A seguir, apresentamos os códigos, resultados e avaliações críticas de cada abordagem."
   ]
  },
  {
   "cell_type": "markdown",
   "id": "248c6a80",
   "metadata": {},
   "source": [
    "## 🔍 Abordagem 1: YOLOv5 Customizado"
   ]
  },
  {
   "cell_type": "code",
   "execution_count": null,
   "id": "664e968d",
   "metadata": {},
   "outputs": [],
   "source": [
    "# Exemplo de detecção com YOLOv5\n",
    "!python detect.py --weights /content/yolov5/runs/train/exp/weights/best.pt --img 640 --conf 0.25 --source /content/drive/MyDrive/Dataset/A/test/images"
   ]
  },
  {
   "cell_type": "code",
   "execution_count": null,
   "id": "e5151784",
   "metadata": {},
   "outputs": [],
   "source": [
    "# Exibe imagens com detecções\n",
    "import os\n",
    "from IPython.display import Image, display\n",
    "detect_path = '/content/yolov5/runs/detect/exp'\n",
    "for img_name in os.listdir(detect_path):\n",
    "    if img_name.endswith('.jpg'):\n",
    "        display(Image(filename=os.path.join(detect_path, img_name)))"
   ]
  },
  {
   "cell_type": "markdown",
   "id": "df7ad086",
   "metadata": {},
   "source": [
    "### 📝 Avaliação da YOLOv5 Customizada\n",
    "- **Precisão**: Alta (ex: `mAP@0.5 = XX%`)\n",
    "- **Tempo de treinamento**: Médio (~5-10 min)\n",
    "- **Facilidade de uso**: Boa (documentação robusta)\n",
    "- **Tempo de inferência**: Rápido\n",
    "- **Comentários**: Ótima performance em detecção de objetos com rotulagem manual."
   ]
  },
  {
   "cell_type": "markdown",
   "id": "8d1e8c0b",
   "metadata": {},
   "source": [
    "## 📘 Abordagem 2: YOLO Tradicional (Capítulo 3)"
   ]
  },
  {
   "cell_type": "code",
   "execution_count": null,
   "id": "867d1fb1",
   "metadata": {},
   "outputs": [],
   "source": [
    "# Código baseado no exemplo do capítulo 3 (adapte para seu dataset)\n",
    "# Insira aqui o código e saída do YOLO tradicional"
   ]
  },
  {
   "cell_type": "markdown",
   "id": "7974b506",
   "metadata": {},
   "source": [
    "### 📝 Avaliação da YOLO Tradicional\n",
    "- **Precisão**: Média ou Baixa (ex: `60%`)\n",
    "- **Tempo de treinamento**: Baixo ou inexistente\n",
    "- **Facilidade de uso**: Média\n",
    "- **Tempo de inferência**: Lento\n",
    "- **Comentários**: Modelo didático, mas pouco preciso em contextos reais."
   ]
  },
  {
   "cell_type": "markdown",
   "id": "9912eb14",
   "metadata": {},
   "source": [
    "## 🧠 Abordagem 3: CNN do Zero (Classificação de Imagens)"
   ]
  },
  {
   "cell_type": "code",
   "execution_count": null,
   "id": "3b58ac59",
   "metadata": {},
   "outputs": [],
   "source": [
    "# Modelo de CNN simples para classificar imagens entre trator e plantação\n",
    "# Aqui você pode usar Keras, TensorFlow ou PyTorch"
   ]
  },
  {
   "cell_type": "markdown",
   "id": "29236c6c",
   "metadata": {},
   "source": [
    "### 📝 Avaliação da CNN\n",
    "- **Precisão**: Média (ex: `80%`)\n",
    "- **Tempo de treinamento**: Rápido\n",
    "- **Facilidade de uso**: Alta\n",
    "- **Tempo de inferência**: Rápido\n",
    "- **Comentários**: Boa alternativa para classificação simples, mas não detecta localização dos objetos."
   ]
  },
  {
   "cell_type": "markdown",
   "id": "3d8f2911",
   "metadata": {},
   "source": [
    "## 📊 Comparativo Final\n",
    "| Abordagem         | Facilidade de uso | Precisão | Tempo de treino | Tempo de inferência |\n",
    "|-------------------|-------------------|----------|------------------|----------------------|\n",
    "| YOLOv5 Customizado| Alta              | Alta     | Médio            | Rápido               |\n",
    "| YOLO Tradicional  | Média             | Média    | Baixo            | Lento                |\n",
    "| CNN do Zero       | Alta              | Média    | Rápido           | Rápido               |"
   ]
  },
  {
   "cell_type": "markdown",
   "id": "7bce9005",
   "metadata": {},
   "source": [
    "## ✅ Conclusão\n",
    "Após testar as três abordagens, ficou evidente que a **YOLOv5 customizada** apresenta os melhores resultados em termos de precisão e aplicabilidade em problemas reais de detecção.\n",
    "\n",
    "A **YOLO tradicional**, apesar de útil para fins educacionais, não é tão eficaz na prática. Já a **CNN do zero** é uma excelente alternativa para tarefas de **classificação**, mas não serve para detecção de múltiplos objetos em uma imagem.\n",
    "\n",
    "**Cada abordagem tem seus pontos fortes, e a escolha depende do cenário específico.**"
   ]
  }
 ],
 "metadata": {},
 "nbformat": 4,
 "nbformat_minor": 5
}
