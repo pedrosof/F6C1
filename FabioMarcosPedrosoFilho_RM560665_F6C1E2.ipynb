{
 "cells": [
  {
   "cell_type": "code",
   "execution_count": null,
   "id": "2c0e590f",
   "metadata": {},
   "outputs": [],
   "source": [
    "# Importa o módulo para acessar o Google Drive no Colab\n",
    "from google.colab import drive\n",
    "\n",
    "# Monta o Google Drive no ambiente do Colab,\n",
    "# permitindo acessar arquivos como se estivessem em uma pasta local.\n",
    "# O parâmetro 'force_remount=True' garante que o Drive será montado novamente,\n",
    "# mesmo que já esteja montado anteriormente (útil para evitar problemas de cache).\n",
    "drive.mount('/content/drive', force_remount=True)"
   ]
  },
  {
   "cell_type": "markdown",
   "id": "6aa4e02d",
   "metadata": {},
   "source": [
    "# 📦 Entrega 2 – Comparação de Abordagens de Visão Computacional\n",
    "Nesta etapa, comparamos três abordagens para reconhecimento de objetos utilizando o mesmo dataset:\n",
    "\n",
    "- YOLOv5 customizado (adaptado na Entrega 1)\n",
    "- YOLO tradicional (baseado no Capítulo 3 de Redes Neurais)\n",
    "- CNN simples treinada do zero para classificação de imagens\n",
    "\n",
    "A seguir, apresentamos os códigos, resultados e avaliações críticas de cada abordagem."
   ]
  },
  {
   "cell_type": "markdown",
   "id": "248c6a80",
   "metadata": {},
   "source": [
    "## 🔍 Abordagem 1: YOLOv5 Customizado"
   ]
  },
  {
   "cell_type": "code",
   "execution_count": null,
   "id": "664e968d",
   "metadata": {},
   "outputs": [],
   "source": [
    "# Exemplo de detecção com YOLOv5\n",
    "!python detect.py --weights /content/yolov5/runs/train/exp/weights/best.pt --img 640 --conf 0.25 --source /content/drive/MyDrive/Dataset/A/test/images"
   ]
  },
  {
   "cell_type": "code",
   "execution_count": null,
   "id": "e5151784",
   "metadata": {},
   "outputs": [],
   "source": [
    "# Exibe imagens com detecções\n",
    "import os\n",
    "from IPython.display import Image, display\n",
    "detect_path = '/content/yolov5/runs/detect/exp'\n",
    "for img_name in os.listdir(detect_path):\n",
    "    if img_name.endswith('.jpg'):\n",
    "        display(Image(filename=os.path.join(detect_path, img_name)))"
   ]
  },
  {
   "cell_type": "markdown",
   "id": "df7ad086",
   "metadata": {},
   "source": [
    "### 📝 Avaliação da YOLOv5 Customizada\n",
    "- **Precisão**: Alta (ex: `mAP@0.5 = XX%`)\n",
    "- **Tempo de treinamento**: Médio (~5-10 min)\n",
    "- **Facilidade de uso**: Boa (documentação robusta)\n",
    "- **Tempo de inferência**: Rápido\n",
    "- **Comentários**: Ótima performance em detecção de objetos com rotulagem manual."
   ]
  },
  {
   "cell_type": "markdown",
   "id": "8d1e8c0b",
   "metadata": {},
   "source": [
    "## 📘 Abordagem 2: YOLO Tradicional (Capítulo 3)"
   ]
  },
  {
   "cell_type": "code",
   "execution_count": null,
   "id": "867d1fb1",
   "metadata": {},
   "outputs": [],
   "source": [
    "import tensorflow as tf\n",
    "from tensorflow.keras.models import Sequential\n",
    "from tensorflow.keras.layers import Conv2D, Flatten, Dense, MaxPooling2D, Dropout\n",
    "from tensorflow.keras.optimizers import Adam\n",
    "from tensorflow.keras.preprocessing.image import ImageDataGenerator\n",
    "\n",
    "# Caminhos para os dados organizados por classe (como classificação)\n",
    "train_dir = '/content/drive/MyDrive/Dataset/A/train'\n",
    "val_dir   = '/content/drive/MyDrive/Dataset/A/val'\n",
    "\n",
    "# Pré-processamento das imagens\n",
    "datagen = ImageDataGenerator(rescale=1./255)\n",
    "\n",
    "train_gen = datagen.flow_from_directory(train_dir, target_size=(224, 224), batch_size=16, class_mode='categorical')\n",
    "val_gen = datagen.flow_from_directory(val_dir, target_size=(224, 224), batch_size=16, class_mode='categorical')\n",
    "\n",
    "# Modelo YOLO simplificado (inspirado na arquitetura tradicional)\n",
    "model = Sequential([\n",
    "    Conv2D(16, (3, 3), activation='relu', input_shape=(224, 224, 3)),\n",
    "    MaxPooling2D(2, 2),\n",
    "    Conv2D(32, (3, 3), activation='relu'),\n",
    "    MaxPooling2D(2, 2),\n",
    "    Conv2D(64, (3, 3), activation='relu'),\n",
    "    MaxPooling2D(2, 2),\n",
    "    Flatten(),\n",
    "    Dense(128, activation='relu'),\n",
    "    Dropout(0.3),\n",
    "    Dense(2, activation='softmax')  # 2 classes: trator e plantacao\n",
    "])\n",
    "\n",
    "model.compile(optimizer=Adam(learning_rate=0.001),\n",
    "              loss='categorical_crossentropy',\n",
    "              metrics=['accuracy'])\n",
    "\n",
    "# Treinamento\n",
    "model.fit(train_gen, validation_data=val_gen, epochs=10)"
   ]
  },
  {
   "cell_type": "code",
   "execution_count": null,
   "id": "a4d48e1d",
   "metadata": {},
   "outputs": [],
   "source": [
    "loss, acc = model.evaluate(val_gen)\n",
    "print(f'Acurácia da YOLO tradicional simulada: {acc:.2%}')"
   ]
  },
  {
   "cell_type": "markdown",
   "id": "7974b506",
   "metadata": {},
   "source": [
    "### 📝 Avaliação da YOLO Tradicional\n",
    "- **Precisão**: Média ou Baixa (ex: `60%`)\n",
    "- **Tempo de treinamento**: Baixo ou inexistente\n",
    "- **Facilidade de uso**: Média\n",
    "- **Tempo de inferência**: Lento\n",
    "- **Comentários**: Modelo didático, mas pouco preciso em contextos reais."
   ]
  },
  {
   "cell_type": "markdown",
   "id": "9912eb14",
   "metadata": {},
   "source": [
    "## 🧠 Abordagem 3: CNN do Zero (Classificação de Imagens)"
   ]
  },
  {
   "cell_type": "code",
   "execution_count": null,
   "id": "3b58ac59",
   "metadata": {},
   "outputs": [],
   "source": [
    "import tensorflow as tf\n",
    "from tensorflow.keras.models import Sequential\n",
    "from tensorflow.keras.layers import Conv2D, MaxPooling2D, Flatten, Dense, Dropout\n",
    "from tensorflow.keras.preprocessing.image import ImageDataGenerator\n",
    "\n",
    "# Diretórios\n",
    "train_dir = '/content/drive/MyDrive/Dataset/A/train'\n",
    "val_dir = '/content/drive/MyDrive/Dataset/A/val'\n",
    "test_dir = '/content/drive/MyDrive/Dataset/A/test'\n",
    "\n",
    "# Geradores de imagem (normalizando)\n",
    "datagen = ImageDataGenerator(rescale=1./255)\n",
    "\n",
    "train_gen = datagen.flow_from_directory(train_dir, target_size=(224, 224), batch_size=16, class_mode='categorical')\n",
    "val_gen = datagen.flow_from_directory(val_dir, target_size=(224, 224), batch_size=16, class_mode='categorical')\n",
    "test_gen = datagen.flow_from_directory(test_dir, target_size=(224, 224), batch_size=1, class_mode='categorical', shuffle=False)\n",
    "\n",
    "# Modelo CNN simples do zero\n",
    "model = Sequential([\n",
    "    Conv2D(32, (3,3), activation='relu', input_shape=(224,224,3)),\n",
    "    MaxPooling2D(2,2),\n",
    "    Conv2D(64, (3,3), activation='relu'),\n",
    "    MaxPooling2D(2,2),\n",
    "    Flatten(),\n",
    "    Dense(128, activation='relu'),\n",
    "    Dropout(0.3),\n",
    "    Dense(2, activation='softmax')  # 2 classes\n",
    "])\n",
    "\n",
    "# Compilação\n",
    "model.compile(optimizer='adam', loss='categorical_crossentropy', metrics=['accuracy'])\n",
    "\n",
    "# Treinamento\n",
    "model.fit(train_gen, validation_data=val_gen, epochs=10)"
   ]
  },
  {
   "cell_type": "code",
   "execution_count": null,
   "id": "f82ca7ed",
   "metadata": {},
   "outputs": [],
   "source": [
    "loss, accuracy = model.evaluate(test_gen)\n",
    "print(f\"Acurácia no conjunto de teste: {accuracy:.2%}\")"
   ]
  },
  {
   "cell_type": "markdown",
   "id": "29236c6c",
   "metadata": {},
   "source": [
    "### 📝 Avaliação da CNN\n",
    "- **Precisão**: Média (ex: `80%`)\n",
    "- **Tempo de treinamento**: Rápido\n",
    "- **Facilidade de uso**: Alta\n",
    "- **Tempo de inferência**: Rápido\n",
    "- **Comentários**: Boa alternativa para classificação simples, mas não detecta localização dos objetos."
   ]
  },
  {
   "cell_type": "markdown",
   "id": "3d8f2911",
   "metadata": {},
   "source": [
    "## 📊 Comparativo Final\n",
    "| Abordagem         | Facilidade de uso | Precisão | Tempo de treino | Tempo de inferência |\n",
    "|-------------------|-------------------|----------|------------------|----------------------|\n",
    "| YOLOv5 Customizado| Alta              | Alta     | Médio            | Rápido               |\n",
    "| YOLO Tradicional  | Média             | Média    | Baixo            | Lento                |\n",
    "| CNN do Zero       | Alta              | Média    | Rápido           | Rápido               |"
   ]
  },
  {
   "cell_type": "markdown",
   "id": "7bce9005",
   "metadata": {},
   "source": [
    "## ✅ Conclusão\n",
    "Após testar as três abordagens, ficou evidente que a **YOLOv5 customizada** apresenta os melhores resultados em termos de precisão e aplicabilidade em problemas reais de detecção.\n",
    "\n",
    "A **YOLO tradicional**, apesar de útil para fins educacionais, não é tão eficaz na prática. Já a **CNN do zero** é uma excelente alternativa para tarefas de **classificação**, mas não serve para detecção de múltiplos objetos em uma imagem.\n",
    "\n",
    "**Cada abordagem tem seus pontos fortes, e a escolha depende do cenário específico.**"
   ]
  }
 ],
 "metadata": {
  "language_info": {
   "name": "python"
  }
 },
 "nbformat": 4,
 "nbformat_minor": 5
}
